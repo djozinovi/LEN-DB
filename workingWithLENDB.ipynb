{
 "cells": [
  {
   "cell_type": "markdown",
   "metadata": {},
   "source": [
    "<b> We import the <i>h5py</i> python library (https://www.h5py.org/) to work with hdf5 format, and <i>matplotlib</i> for visualizations  </b>"
   ]
  },
  {
   "cell_type": "code",
   "execution_count": 12,
   "metadata": {},
   "outputs": [],
   "source": [
    "import h5py\n",
    "import matplotlib.pyplot as plt"
   ]
  },
  {
   "cell_type": "markdown",
   "metadata": {},
   "source": [
    "<b>Read the hdf5 file:</b>"
   ]
  },
  {
   "cell_type": "code",
   "execution_count": 3,
   "metadata": {},
   "outputs": [],
   "source": [
    "lenDB = h5py.File('LEN-DB.hdf5', 'r')"
   ]
  },
  {
   "cell_type": "markdown",
   "metadata": {},
   "source": [
    "<b> Print the group names in the file </b> "
   ]
  },
  {
   "cell_type": "code",
   "execution_count": 4,
   "metadata": {},
   "outputs": [
    {
     "name": "stdout",
     "output_type": "stream",
     "text": [
      "AN\n",
      "EQ\n",
      "Stations\n"
     ]
    }
   ],
   "source": [
    "for key in lenDB.keys():\n",
    "    print(key)"
   ]
  },
  {
   "cell_type": "markdown",
   "metadata": {},
   "source": [
    "<b> Let's explore the items in the groups </b>"
   ]
  },
  {
   "cell_type": "code",
   "execution_count": 6,
   "metadata": {},
   "outputs": [
    {
     "name": "stdout",
     "output_type": "stream",
     "text": [
      "Number of earthquakes:  629095\n",
      "Examples of keys:  ['AE_319A_1354213304.0999', 'AE_319A_1355252254.425', 'AE_319A_1360263749.5500002', 'AE_319A_1362597107.2', 'AE_319A_1363632861.6499999']\n"
     ]
    }
   ],
   "source": [
    "earthquakes = list(lenDB['EQ'].keys())\n",
    "print('Number of earthquakes: ', len(earthquakes))\n",
    "print('Examples of earthquake keys: ', earthquakes[:5])"
   ]
  },
  {
   "cell_type": "code",
   "execution_count": 9,
   "metadata": {},
   "outputs": [
    {
     "name": "stdout",
     "output_type": "stream",
     "text": [
      "Number of noise waveforms:  615847\n",
      "Examples of noise keys:  ['AE_113A_1334887512.5249999', 'AE_113A_1336639948.775', 'AE_113A_1337258057.2749', 'AE_113A_1337763598.2', 'AE_113A_1338669957.3500001']\n"
     ]
    }
   ],
   "source": [
    "noise = list(lenDB['AN'].keys())\n",
    "print('Number of noise waveforms: ', len(noise))\n",
    "print('Examples of noise keys: ', noise[:5])"
   ]
  },
  {
   "cell_type": "code",
   "execution_count": 8,
   "metadata": {},
   "outputs": [
    {
     "name": "stdout",
     "output_type": "stream",
     "text": [
      "Number of stations:  1487\n",
      "Examples of station keys:  ['AE_113A', 'AE_319A', 'AE_BABIT', 'AE_BARN', 'AE_DUN6']\n"
     ]
    }
   ],
   "source": [
    "stations = list(lenDB['Stations'].keys())\n",
    "print('Number of stations: ', len(stations))\n",
    "print('Examples of station keys: ', stations[:5])"
   ]
  },
  {
   "cell_type": "markdown",
   "metadata": {},
   "source": [
    "<b> Let's have a closer look at one earthquake example </b>"
   ]
  },
  {
   "cell_type": "code",
   "execution_count": 14,
   "metadata": {},
   "outputs": [
    {
     "data": {
      "text/plain": [
       "<HDF5 dataset \"AF_WDLM_1413563823.095\": shape (3, 540), type \"<f8\">"
      ]
     },
     "execution_count": 14,
     "metadata": {},
     "output_type": "execute_result"
    }
   ],
   "source": [
    "eq = lenDB['EQ'][earthquakes[1000]]\n",
    "eq"
   ]
  },
  {
   "cell_type": "markdown",
   "metadata": {},
   "source": [
    "The data are stored as numpy arrays which we can easily access"
   ]
  },
  {
   "cell_type": "code",
   "execution_count": 34,
   "metadata": {},
   "outputs": [
    {
     "data": {
      "text/plain": [
       "array([[ 4.11026025e-08,  3.55794129e-08,  4.40558838e-08, ...,\n",
       "        -1.71562474e-08, -2.32049554e-08, -1.86115980e-08],\n",
       "       [ 5.48436700e-08,  5.41363454e-08,  6.41454370e-08, ...,\n",
       "         7.06002756e-09,  5.42397576e-09, -1.33853943e-10],\n",
       "       [ 4.61198851e-09,  8.69128712e-09,  1.36486002e-08, ...,\n",
       "        -1.20131930e-08, -1.19486422e-08, -1.69616783e-08]])"
      ]
     },
     "execution_count": 34,
     "metadata": {},
     "output_type": "execute_result"
    }
   ],
   "source": [
    "eq[:]"
   ]
  },
  {
   "cell_type": "code",
   "execution_count": 15,
   "metadata": {},
   "outputs": [
    {
     "data": {
      "text/plain": [
       "[<matplotlib.lines.Line2D at 0x7f1d9ab0c5f8>]"
      ]
     },
     "execution_count": 15,
     "metadata": {},
     "output_type": "execute_result"
    },
    {
     "data": {
      "image/png": "[encoded data removed]",
      "text/plain": [
       "<Figure size 432x288 with 1 Axes>"
      ]
     },
     "metadata": {
      "needs_background": "light"
     },
     "output_type": "display_data"
    }
   ],
   "source": [
    "plt.plot(eq[0,:])"
   ]
  },
  {
   "cell_type": "markdown",
   "metadata": {},
   "source": [
    "Every waveform has attributes that are accessible through the <i>h5py</i> object <i>attrs</i>"
   ]
  },
  {
   "cell_type": "code",
   "execution_count": 16,
   "metadata": {},
   "outputs": [
    {
     "data": {
      "text/plain": [
       "['net',\n",
       " 'sta',\n",
       " 'stla',\n",
       " 'stlo',\n",
       " 'stel',\n",
       " 'starttime',\n",
       " 'endtime',\n",
       " 'mag',\n",
       " 'evla',\n",
       " 'evlo',\n",
       " 'evdp',\n",
       " 'otime',\n",
       " 'dist',\n",
       " 'az',\n",
       " 'baz']"
      ]
     },
     "execution_count": 16,
     "metadata": {},
     "output_type": "execute_result"
    }
   ],
   "source": [
    "list(eq.attrs.keys()) "
   ]
  },
  {
   "cell_type": "code",
   "execution_count": 22,
   "metadata": {},
   "outputs": [
    {
     "name": "stdout",
     "output_type": "stream",
     "text": [
      "Magnitude:  1.5\n",
      "Station: WDLM\n"
     ]
    }
   ],
   "source": [
    "print('Magnitude: ', eq.attrs['mag'])\n",
    "print('Station:', eq.attrs['sta'])"
   ]
  },
  {
   "cell_type": "markdown",
   "metadata": {},
   "source": [
    "<b>The noise group</b> has the same type of data as earthquake group, but smaller number of attributes available"
   ]
  },
  {
   "cell_type": "code",
   "execution_count": 24,
   "metadata": {},
   "outputs": [
    {
     "data": {
      "text/plain": [
       "<HDF5 dataset \"AF_CVNA_1263443432.6950002\": shape (3, 540), type \"<f8\">"
      ]
     },
     "execution_count": 24,
     "metadata": {},
     "output_type": "execute_result"
    }
   ],
   "source": [
    "lenDB['AN'][noise[1000]]"
   ]
  },
  {
   "cell_type": "code",
   "execution_count": 25,
   "metadata": {},
   "outputs": [
    {
     "data": {
      "text/plain": [
       "['net', 'sta', 'stla', 'stlo', 'stel', 'starttime', 'endtime']"
      ]
     },
     "execution_count": 25,
     "metadata": {},
     "output_type": "execute_result"
    }
   ],
   "source": [
    "list(lenDB['AN'][noise[1000]].attrs.keys()) "
   ]
  },
  {
   "cell_type": "markdown",
   "metadata": {},
   "source": [
    "<b> Let's explore the station group </b>"
   ]
  },
  {
   "cell_type": "code",
   "execution_count": 27,
   "metadata": {},
   "outputs": [
    {
     "data": {
      "text/plain": [
       "<HDF5 dataset \"IU_KIP\": shape (1,), type \"<i8\">"
      ]
     },
     "execution_count": 27,
     "metadata": {},
     "output_type": "execute_result"
    }
   ],
   "source": [
    "station = lenDB['Stations'][stations[1000]]\n",
    "station"
   ]
  },
  {
   "cell_type": "code",
   "execution_count": 30,
   "metadata": {},
   "outputs": [
    {
     "data": {
      "text/plain": [
       "array([0])"
      ]
     },
     "execution_count": 30,
     "metadata": {},
     "output_type": "execute_result"
    }
   ],
   "source": [
    "station[:]"
   ]
  },
  {
   "cell_type": "code",
   "execution_count": 29,
   "metadata": {},
   "outputs": [
    {
     "data": {
      "text/plain": [
       "['net', 'sta', 'stla', 'stlo', 'stel']"
      ]
     },
     "execution_count": 29,
     "metadata": {},
     "output_type": "execute_result"
    }
   ],
   "source": [
    "list(station.attrs.keys())"
   ]
  },
  {
   "cell_type": "markdown",
   "metadata": {},
   "source": [
    "<b> We can easily filter the data by attributes </b> <br/>\n",
    "Let's try to get earthquakes bigger than magnitude 7 in the database."
   ]
  },
  {
   "cell_type": "code",
   "execution_count": 35,
   "metadata": {},
   "outputs": [
    {
     "data": {
      "text/plain": [
       "['AK_CAPN_1543598980.5484002',\n",
       " 'AK_CUT_1543598983.94',\n",
       " 'AK_GHO_1543598978.2884',\n",
       " 'AK_KNK_1543598979.2484',\n",
       " 'AK_PWL_1543598981.9683998',\n",
       " 'AK_RC01_1543598973.94',\n",
       " 'AK_SAW_1543598981.6483998',\n",
       " 'AK_SKN_1543598982.7484002',\n",
       " 'AK_SLK_1543598980.8883998',\n",
       " 'AK_SSN_1543598975.1683998']"
      ]
     },
     "execution_count": 35,
     "metadata": {},
     "output_type": "execute_result"
    }
   ],
   "source": [
    "bigEarthquakes = [eq for eq in earthquakes if lenDB['EQ'][eq].attrs['mag'] > 7]\n",
    "bigEarthquakes"
   ]
  },
  {
   "cell_type": "markdown",
   "metadata": {},
   "source": [
    "<b> Remember to close the hdf5 file </b>"
   ]
  },
  {
   "cell_type": "code",
   "execution_count": 37,
   "metadata": {},
   "outputs": [],
   "source": [
    "lenDB.close()\n"
   ]
  },
  {
   "cell_type": "code",
   "execution_count": null,
   "metadata": {},
   "outputs": [],
   "source": []
  }
 ],
 "metadata": {
  "kernelspec": {
   "display_name": "Python 3",
   "language": "python",
   "name": "python3"
  },
  "language_info": {
   "codemirror_mode": {
    "name": "ipython",
    "version": 3
   },
   "file_extension": ".py",
   "mimetype": "text/x-python",
   "name": "python",
   "nbconvert_exporter": "python",
   "pygments_lexer": "ipython3",
   "version": "3.6.7"
  }
 },
 "nbformat": 4,
 "nbformat_minor": 2
}
